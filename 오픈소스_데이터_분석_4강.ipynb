{
  "nbformat": 4,
  "nbformat_minor": 0,
  "metadata": {
    "colab": {
      "provenance": [],
      "include_colab_link": true
    },
    "kernelspec": {
      "name": "python3",
      "display_name": "Python 3"
    },
    "language_info": {
      "name": "python"
    }
  },
  "cells": [
    {
      "cell_type": "markdown",
      "metadata": {
        "id": "view-in-github",
        "colab_type": "text"
      },
      "source": [
        "<a href=\"https://colab.research.google.com/github/wichung/Data-Analysis-with-Open-Source/blob/main/%EC%98%A4%ED%94%88%EC%86%8C%EC%8A%A4_%EB%8D%B0%EC%9D%B4%ED%84%B0_%EB%B6%84%EC%84%9D_4%EA%B0%95.ipynb\" target=\"_parent\"><img src=\"https://colab.research.google.com/assets/colab-badge.svg\" alt=\"Open In Colab\"/></a>"
      ]
    },
    {
      "cell_type": "markdown",
      "source": [
        "\n",
        "\n",
        "# 오픈소스 기반 데이터 분석 4강 - 데이터 수집\n"
      ],
      "metadata": {
        "id": "DkPKaAsoRq5Q"
      }
    },
    {
      "cell_type": "markdown",
      "source": [
        "## 4-1 CSV 파일 읽기"
      ],
      "metadata": {
        "id": "-I7BVVlnRrB0"
      }
    },
    {
      "cell_type": "code",
      "source": [
        "import pandas as pd\n",
        "\n",
        "## data.csv 파일 읽기\n",
        "df = pd.read_csv('data.csv', encoding = 'utf-8', sep=',', header=0,\n",
        "                 index_col=None, skiprows=None, nrows=None)\n",
        "print(df)"
      ],
      "metadata": {
        "id": "2Y2HEiaiRwAI",
        "outputId": "d1041340-3fac-48f8-9984-57c9adadf6be",
        "colab": {
          "base_uri": "https://localhost:8080/"
        }
      },
      "execution_count": 2,
      "outputs": [
        {
          "output_type": "stream",
          "name": "stdout",
          "text": [
            "           날짜    체중  골격근량  체지방량\n",
            "0  2025.02.06  64.7  30.0  11.1\n",
            "1  2025.02.04  64.0  29.3  11.6\n"
          ]
        }
      ]
    },
    {
      "cell_type": "markdown",
      "source": [
        "## 4-2 JSON 파일 읽기\n",
        "\n"
      ],
      "metadata": {
        "id": "9kHCFaGlRrE0"
      }
    },
    {
      "cell_type": "code",
      "source": [
        "import json\n",
        "import pandas as pd\n",
        "\n",
        "## data.json 파일 출력\n",
        "with open('data.json', mode='r', encoding='utf=8') as f:\n",
        "    data = json.load(f)\n",
        "print(data)"
      ],
      "metadata": {
        "id": "MickYdJbo_21",
        "outputId": "7a053610-408d-4cdc-e28d-dd9456fa64a7",
        "colab": {
          "base_uri": "https://localhost:8080/"
        }
      },
      "execution_count": 3,
      "outputs": [
        {
          "output_type": "stream",
          "name": "stdout",
          "text": [
            "{'매출데이터': [{'월': '2025-01', '매출액': 1000000, '비용': 700000, '이익': 300000}, {'월': '2025-02', '매출액': 1200000, '비용': 800000, '이익': 400000}, {'월': '2025-03', '매출액': 1500000, '비용': 900000, '이익': 600000}]}\n"
          ]
        }
      ]
    },
    {
      "cell_type": "code",
      "source": [
        "import json\n",
        "import pandas as pd\n",
        "\n",
        "## data.json 파일 출력\n",
        "with open('data.json', mode='r', encoding='utf=8') as f:\n",
        "    json.load(f)\n",
        "print(data)\n",
        "## data.json 파일 DataFrame 읽기\n",
        "df = pd.read_json('data.json', orient='records', encoding='utf=8')\n",
        "\n",
        "print(df)"
      ],
      "metadata": {
        "id": "IO8bsKekR0W_",
        "outputId": "6d4306ca-d4c1-460d-cb1f-ec37445acc37",
        "colab": {
          "base_uri": "https://localhost:8080/"
        }
      },
      "execution_count": 4,
      "outputs": [
        {
          "output_type": "stream",
          "name": "stdout",
          "text": [
            "{'매출데이터': [{'월': '2025-01', '매출액': 1000000, '비용': 700000, '이익': 300000}, {'월': '2025-02', '매출액': 1200000, '비용': 800000, '이익': 400000}, {'월': '2025-03', '매출액': 1500000, '비용': 900000, '이익': 600000}]}\n",
            "                                               매출데이터\n",
            "0  {'월': '2025-01', '매출액': 1000000, '비용': 700000,...\n",
            "1  {'월': '2025-02', '매출액': 1200000, '비용': 800000,...\n",
            "2  {'월': '2025-03', '매출액': 1500000, '비용': 900000,...\n"
          ]
        }
      ]
    },
    {
      "cell_type": "code",
      "source": [],
      "metadata": {
        "id": "HfcNC6W6oqo-"
      },
      "execution_count": null,
      "outputs": []
    },
    {
      "cell_type": "markdown",
      "source": [
        "## 4-3 텍스트 파일 읽기 및 데이터 추출"
      ],
      "metadata": {
        "id": "uLd_3A_IRrHG"
      }
    },
    {
      "cell_type": "code",
      "source": [
        "import re\n",
        "\n",
        "## 파일(callcenter20250301.log) 오픈 및 읽기\n",
        "with open('callcenter20250301.log', 'r', encoding='utf-8') as f:\n",
        "    content = f.read()\n",
        "## 주민등록번호 패턴 생성\n",
        "pattern = re.compile(r'(\\d{6})-(\\d{7})')\n",
        "\n",
        "## 주민등록번호 마스킹\n",
        "masked_content = pattern.sub(r'\\1-*******', content)\n",
        "\n",
        "## 마스킹된 파일(callcenter20250301_masked.log) 오픈 및 쓰기\n",
        "with open('callcenter20250301_masked.log', 'w', encoding='utf-8') as f:\n",
        "    f.write(masked_content)\n",
        "\n",
        "print(\"주민등록번호 마스킹 완료. 'callcenter20250301_masked.log.txt' 파일로 저장되었습니다.\")"
      ],
      "metadata": {
        "id": "60qOf7uxVdAg",
        "outputId": "174aa656-5765-445f-8b0c-cfcca57f0f80",
        "colab": {
          "base_uri": "https://localhost:8080/"
        }
      },
      "execution_count": 8,
      "outputs": [
        {
          "output_type": "stream",
          "name": "stdout",
          "text": [
            "주민등록번호 마스킹 완료. 'callcenter20250301_masked.log.txt' 파일로 저장되었습니다.\n"
          ]
        }
      ]
    },
    {
      "cell_type": "markdown",
      "source": [
        "## 4-4 Open-Meteo의 무료 날씨 API를 통한 특정 지역 온도 조회"
      ],
      "metadata": {
        "id": "eOMufu5SXiAU"
      }
    },
    {
      "cell_type": "code",
      "source": [
        "import requests\n",
        "import json\n",
        "\n",
        "url = \"https://api.open-meteo.com/v1/forecast?=&=&current=temperature_2m\"\n",
        "params = {\n",
        "    \"latitude\": \"37.58638333\",\n",
        "    \"longitude\": \"127.0203333\",\n",
        "    \"current\": \"temperature_2m\"\n",
        "}\n",
        "\n",
        "try:\n",
        "    ## URL 및 파라미터 전송\n",
        "    response = requests.get(url, params=params)\n",
        "    response.raise_for_status()\n",
        "\n",
        "    ## JSON 데이터 읽기\n",
        "    data = response.json()\n",
        "\n",
        "    print(\"API 응답:\", data)\n",
        "    print(\"서울시 종로구의 현재 온도는 : {0}{1} 입니다.\".format(data['current']['temperature_2m'], data['current_units']['temperature_2m']))\n",
        "\n",
        "except requests.exceptions.RequestException as e:\n",
        "    print(f\"API 호출 실패: {e}\")\n",
        "except json.JSONDecodeError as e:\n",
        "    print(f\"JSON 파싱 실패: {e}\")"
      ],
      "metadata": {
        "id": "JpmgdsW9V0CY",
        "outputId": "41049047-f385-4dd4-ae75-945a24f8d56c",
        "colab": {
          "base_uri": "https://localhost:8080/"
        }
      },
      "execution_count": 10,
      "outputs": [
        {
          "output_type": "stream",
          "name": "stdout",
          "text": [
            "API 응답: {'latitude': 37.6, 'longitude': 127.0, 'generationtime_ms': 0.03409385681152344, 'utc_offset_seconds': 0, 'timezone': 'GMT', 'timezone_abbreviation': 'GMT', 'elevation': 29.0, 'current_units': {'time': 'iso8601', 'interval': 'seconds', 'temperature_2m': '°C'}, 'current': {'time': '2025-10-06T08:45', 'interval': 900, 'temperature_2m': 15.1}}\n",
            "서울시 종로구의 현재 온도는 : 15.1°C 입니다.\n"
          ]
        }
      ]
    },
    {
      "cell_type": "markdown",
      "source": [
        "## 4-5 Selenium과 lxml을 이용한 웹 스크래핑"
      ],
      "metadata": {
        "id": "RLfPaa1ZiqIC"
      }
    },
    {
      "cell_type": "code",
      "source": [
        "!curl -o google-chrome-stable_current_amd64.deb https://dl.google.com/linux/direct/google-chrome-stable_current_amd64.deb\n",
        "!apt install ./google-chrome-stable_current_amd64.deb -y\n",
        "!pip install selenium webdriver_manager"
      ],
      "metadata": {
        "id": "79dmM7MNk8pB",
        "outputId": "a4d9f303-8bfc-4fb6-8d7e-600c9835a00c",
        "colab": {
          "base_uri": "https://localhost:8080/"
        }
      },
      "execution_count": 11,
      "outputs": [
        {
          "output_type": "stream",
          "name": "stdout",
          "text": [
            "  % Total    % Received % Xferd  Average Speed   Time    Time     Time  Current\n",
            "                                 Dload  Upload   Total   Spent    Left  Speed\n",
            "100  114M  100  114M    0     0  92.3M      0  0:00:01  0:00:01 --:--:-- 92.3M\n",
            "Reading package lists... Done\n",
            "Building dependency tree... Done\n",
            "Reading state information... Done\n",
            "Note, selecting 'google-chrome-stable' instead of './google-chrome-stable_current_amd64.deb'\n",
            "The following additional packages will be installed:\n",
            "  libvulkan1 mesa-vulkan-drivers\n",
            "The following NEW packages will be installed:\n",
            "  google-chrome-stable libvulkan1 mesa-vulkan-drivers\n",
            "0 upgraded, 3 newly installed, 0 to remove and 38 not upgraded.\n",
            "Need to get 10.9 MB/131 MB of archives.\n",
            "After this operation, 448 MB of additional disk space will be used.\n",
            "Get:1 http://archive.ubuntu.com/ubuntu jammy/main amd64 libvulkan1 amd64 1.3.204.1-2 [128 kB]\n",
            "Get:2 /content/google-chrome-stable_current_amd64.deb google-chrome-stable amd64 141.0.7390.54-1 [121 MB]\n",
            "Get:3 http://archive.ubuntu.com/ubuntu jammy-updates/main amd64 mesa-vulkan-drivers amd64 23.2.1-1ubuntu3.1~22.04.3 [10.7 MB]\n",
            "Fetched 10.9 MB in 1s (7,282 kB/s)\n",
            "Selecting previously unselected package libvulkan1:amd64.\n",
            "(Reading database ... 126675 files and directories currently installed.)\n",
            "Preparing to unpack .../libvulkan1_1.3.204.1-2_amd64.deb ...\n",
            "Unpacking libvulkan1:amd64 (1.3.204.1-2) ...\n",
            "Selecting previously unselected package google-chrome-stable.\n",
            "Preparing to unpack .../google-chrome-stable_current_amd64.deb ...\n",
            "Unpacking google-chrome-stable (141.0.7390.54-1) ...\n",
            "Selecting previously unselected package mesa-vulkan-drivers:amd64.\n",
            "Preparing to unpack .../mesa-vulkan-drivers_23.2.1-1ubuntu3.1~22.04.3_amd64.deb ...\n",
            "Unpacking mesa-vulkan-drivers:amd64 (23.2.1-1ubuntu3.1~22.04.3) ...\n",
            "Setting up libvulkan1:amd64 (1.3.204.1-2) ...\n",
            "Setting up mesa-vulkan-drivers:amd64 (23.2.1-1ubuntu3.1~22.04.3) ...\n",
            "Setting up google-chrome-stable (141.0.7390.54-1) ...\n",
            "update-alternatives: using /usr/bin/google-chrome-stable to provide /usr/bin/x-www-browser (x-www-browser) in auto mode\n",
            "update-alternatives: using /usr/bin/google-chrome-stable to provide /usr/bin/gnome-www-browser (gnome-www-browser) in auto mode\n",
            "update-alternatives: using /usr/bin/google-chrome-stable to provide /usr/bin/google-chrome (google-chrome) in auto mode\n",
            "Processing triggers for man-db (2.10.2-1) ...\n",
            "Processing triggers for mailcap (3.70+nmu1ubuntu1) ...\n",
            "Processing triggers for libc-bin (2.35-0ubuntu3.8) ...\n",
            "/sbin/ldconfig.real: /usr/local/lib/libumf.so.0 is not a symbolic link\n",
            "\n",
            "/sbin/ldconfig.real: /usr/local/lib/libtbbmalloc.so.2 is not a symbolic link\n",
            "\n",
            "/sbin/ldconfig.real: /usr/local/lib/libtbbbind.so.3 is not a symbolic link\n",
            "\n",
            "/sbin/ldconfig.real: /usr/local/lib/libur_loader.so.0 is not a symbolic link\n",
            "\n",
            "/sbin/ldconfig.real: /usr/local/lib/libur_adapter_level_zero.so.0 is not a symbolic link\n",
            "\n",
            "/sbin/ldconfig.real: /usr/local/lib/libtbbbind_2_5.so.3 is not a symbolic link\n",
            "\n",
            "/sbin/ldconfig.real: /usr/local/lib/libtcm_debug.so.1 is not a symbolic link\n",
            "\n",
            "/sbin/ldconfig.real: /usr/local/lib/libur_adapter_level_zero_v2.so.0 is not a symbolic link\n",
            "\n",
            "/sbin/ldconfig.real: /usr/local/lib/libtbb.so.12 is not a symbolic link\n",
            "\n",
            "/sbin/ldconfig.real: /usr/local/lib/libtbbmalloc_proxy.so.2 is not a symbolic link\n",
            "\n",
            "/sbin/ldconfig.real: /usr/local/lib/libtbbbind_2_0.so.3 is not a symbolic link\n",
            "\n",
            "/sbin/ldconfig.real: /usr/local/lib/libhwloc.so.15 is not a symbolic link\n",
            "\n",
            "/sbin/ldconfig.real: /usr/local/lib/libur_adapter_opencl.so.0 is not a symbolic link\n",
            "\n",
            "/sbin/ldconfig.real: /usr/local/lib/libtcm.so.1 is not a symbolic link\n",
            "\n",
            "Collecting selenium\n",
            "  Downloading selenium-4.36.0-py3-none-any.whl.metadata (7.5 kB)\n",
            "Collecting webdriver_manager\n",
            "  Downloading webdriver_manager-4.0.2-py2.py3-none-any.whl.metadata (12 kB)\n",
            "Requirement already satisfied: urllib3<3.0,>=2.5.0 in /usr/local/lib/python3.12/dist-packages (from urllib3[socks]<3.0,>=2.5.0->selenium) (2.5.0)\n",
            "Collecting trio<1.0,>=0.30.0 (from selenium)\n",
            "  Downloading trio-0.31.0-py3-none-any.whl.metadata (8.5 kB)\n",
            "Collecting trio-websocket<1.0,>=0.12.2 (from selenium)\n",
            "  Downloading trio_websocket-0.12.2-py3-none-any.whl.metadata (5.1 kB)\n",
            "Requirement already satisfied: certifi>=2025.6.15 in /usr/local/lib/python3.12/dist-packages (from selenium) (2025.8.3)\n",
            "Requirement already satisfied: typing_extensions<5.0,>=4.14.0 in /usr/local/lib/python3.12/dist-packages (from selenium) (4.15.0)\n",
            "Requirement already satisfied: websocket-client<2.0,>=1.8.0 in /usr/local/lib/python3.12/dist-packages (from selenium) (1.8.0)\n",
            "Requirement already satisfied: requests in /usr/local/lib/python3.12/dist-packages (from webdriver_manager) (2.32.4)\n",
            "Requirement already satisfied: python-dotenv in /usr/local/lib/python3.12/dist-packages (from webdriver_manager) (1.1.1)\n",
            "Requirement already satisfied: packaging in /usr/local/lib/python3.12/dist-packages (from webdriver_manager) (25.0)\n",
            "Requirement already satisfied: attrs>=23.2.0 in /usr/local/lib/python3.12/dist-packages (from trio<1.0,>=0.30.0->selenium) (25.3.0)\n",
            "Requirement already satisfied: sortedcontainers in /usr/local/lib/python3.12/dist-packages (from trio<1.0,>=0.30.0->selenium) (2.4.0)\n",
            "Requirement already satisfied: idna in /usr/local/lib/python3.12/dist-packages (from trio<1.0,>=0.30.0->selenium) (3.10)\n",
            "Collecting outcome (from trio<1.0,>=0.30.0->selenium)\n",
            "  Downloading outcome-1.3.0.post0-py2.py3-none-any.whl.metadata (2.6 kB)\n",
            "Requirement already satisfied: sniffio>=1.3.0 in /usr/local/lib/python3.12/dist-packages (from trio<1.0,>=0.30.0->selenium) (1.3.1)\n",
            "Collecting wsproto>=0.14 (from trio-websocket<1.0,>=0.12.2->selenium)\n",
            "  Downloading wsproto-1.2.0-py3-none-any.whl.metadata (5.6 kB)\n",
            "Requirement already satisfied: pysocks!=1.5.7,<2.0,>=1.5.6 in /usr/local/lib/python3.12/dist-packages (from urllib3[socks]<3.0,>=2.5.0->selenium) (1.7.1)\n",
            "Requirement already satisfied: charset_normalizer<4,>=2 in /usr/local/lib/python3.12/dist-packages (from requests->webdriver_manager) (3.4.3)\n",
            "Requirement already satisfied: h11<1,>=0.9.0 in /usr/local/lib/python3.12/dist-packages (from wsproto>=0.14->trio-websocket<1.0,>=0.12.2->selenium) (0.16.0)\n",
            "Downloading selenium-4.36.0-py3-none-any.whl (9.6 MB)\n",
            "\u001b[2K   \u001b[90m━━━━━━━━━━━━━━━━━━━━━━━━━━━━━━━━━━━━━━━━\u001b[0m \u001b[32m9.6/9.6 MB\u001b[0m \u001b[31m78.4 MB/s\u001b[0m eta \u001b[36m0:00:00\u001b[0m\n",
            "\u001b[?25hDownloading webdriver_manager-4.0.2-py2.py3-none-any.whl (27 kB)\n",
            "Downloading trio-0.31.0-py3-none-any.whl (512 kB)\n",
            "\u001b[2K   \u001b[90m━━━━━━━━━━━━━━━━━━━━━━━━━━━━━━━━━━━━━━━━\u001b[0m \u001b[32m512.7/512.7 kB\u001b[0m \u001b[31m27.8 MB/s\u001b[0m eta \u001b[36m0:00:00\u001b[0m\n",
            "\u001b[?25hDownloading trio_websocket-0.12.2-py3-none-any.whl (21 kB)\n",
            "Downloading outcome-1.3.0.post0-py2.py3-none-any.whl (10 kB)\n",
            "Downloading wsproto-1.2.0-py3-none-any.whl (24 kB)\n",
            "Installing collected packages: wsproto, outcome, webdriver_manager, trio, trio-websocket, selenium\n",
            "Successfully installed outcome-1.3.0.post0 selenium-4.36.0 trio-0.31.0 trio-websocket-0.12.2 webdriver_manager-4.0.2 wsproto-1.2.0\n"
          ]
        }
      ]
    },
    {
      "cell_type": "code",
      "source": [
        "from selenium import webdriver\n",
        "from selenium.webdriver.chrome.service import Service as ChromeService\n",
        "from webdriver_manager.chrome import ChromeDriverManager\n",
        "from selenium.webdriver.common.by import By\n",
        "from lxml import html\n",
        "import time\n",
        "\n",
        "chrome_options = webdriver.ChromeOptions()\n",
        "chrome_options.add_argument('--headless')               # 브라우저 창 없이 실행\n",
        "chrome_options.add_argument('--no-sandbox')             # 보안모드 비활성화 (Colab 필수)\n",
        "chrome_options.add_argument('--disable-dev-shm-usage')  # 메모리 부족 방지 (Colab 필수)\n",
        "chrome_options.add_argument('--window-size=1920x1080')  # 창 크기 설정(가상)\n",
        "chrome_options.add_argument('--disable-gpu')            # GPU 가속 비활성화 (일부 환경 안정성)\n",
        "chrome_options.binary_location = \"/usr/bin/google-chrome-stable\"  # Colab용 크롬 경로 지정\n",
        "\n",
        "## 드라이버 실행\n",
        "driver = webdriver.Chrome(options=chrome_options)\n",
        "\n",
        "## 사이트 접속\n",
        "url = 'https://github.com/jaehwachung/Data-Analysis-with-Open-Source'\n",
        "driver.get(url)\n",
        "\n",
        "## 사이트 접속 대기\n",
        "time.sleep(2)\n",
        "\n",
        "## 페이지 제목 출력\n",
        "page_source = driver.page_source\n",
        "tree = html.fromstring(page_source)\n",
        "\n",
        "title_text = tree.xpath('//title/text()')\n",
        "print(title_text)\n",
        "\n",
        "## 드라이버 종료\n",
        "driver.quit()"
      ],
      "metadata": {
        "id": "cRC8x3_iW0im",
        "outputId": "b8c31e85-b67b-44c1-b6c6-2d6ec6c0e7d4",
        "colab": {
          "base_uri": "https://localhost:8080/"
        }
      },
      "execution_count": 14,
      "outputs": [
        {
          "output_type": "stream",
          "name": "stdout",
          "text": [
            "['GitHub - jaehwachung/Data-Analysis-with-Open-Source: Data Analysis with Open Source']\n"
          ]
        }
      ]
    },
    {
      "cell_type": "markdown",
      "source": [
        "\n",
        "# 실습 시나리오"
      ],
      "metadata": {
        "id": "Bu6OMZyGirOq"
      }
    },
    {
      "cell_type": "markdown",
      "source": [
        "## 공공데이터 포털 가입 및 데이터 신청\n",
        "\n",
        "- [https://www.data.go.kr](https://www.data.go.kr)\n",
        "- 한국환경공단 에어코리아 대기오염정보 데이터 신청"
      ],
      "metadata": {
        "id": "nsuqRN9RkZlW"
      }
    },
    {
      "cell_type": "markdown",
      "source": [
        "## 서울시 데이터"
      ],
      "metadata": {
        "id": "e553t_a8GwX3"
      }
    },
    {
      "cell_type": "code",
      "source": [
        "import requests\n",
        "\n",
        "## 데이터 수집 url 및 api key 설정\n",
        "url = \"http://openapi.seoul.go.kr:8088/5449485a6d776963383259546f4152/json/energyUseDataStatInfo/1/5/2015/01\"\n",
        "api_key = \"5449485a6d776963383259546f4152\"\n",
        "params = {\n",
        "    'serviceKey': api_key,\n",
        "    'returnType': 'json',\n",
        "    'numOfRows': '100',\n",
        "    'pageNo': '1',\n",
        "    'sidoName': '서울',\n",
        "    'ver': '1.0'\n",
        "}\n",
        "\n",
        "## 데이터 수집\n",
        "response = requests.get(url, params=params)\n",
        "\n",
        "## 호출 성공/실패 출력\n",
        "if response.status_code == 200:\n",
        "    print(\"api 호출 성공\")\n",
        "    print(response.json())\n",
        "else:\n",
        "    print(f\"API 호출실패: {response.status_code}\")\n"
      ],
      "metadata": {
        "id": "7yCozmQeXJcO",
        "outputId": "daeb6ce1-b66b-4f48-9557-3927e3eebb30",
        "colab": {
          "base_uri": "https://localhost:8080/"
        }
      },
      "execution_count": 18,
      "outputs": [
        {
          "output_type": "stream",
          "name": "stdout",
          "text": [
            "api 호출 성공\n",
            "{'energyUseDataStatInfo': {'list_total_count': 2955, 'RESULT': {'CODE': 'INFO-000', 'MESSAGE': '정상 처리되었습니다'}, 'row': [{'YEAR': '2015', 'MON': '01', 'HOSTCODE': '광진구', 'DONGCODE': '기타', 'MM_TYPE': '기업', 'TYPE_DIV': '단체', 'TYPE_DIV_CD': 'TB_GROUP', 'CNT': '1', 'EUS': '361', 'EUS1': '322', 'EUS2': '347', 'ECO2_1_MATH_YEAR': '39', 'ECO2_2_MATH_YEAR': '16.536', 'ECO2_1_MATH': '26.5', 'ECO2_2_MATH': '11.236', 'ECO2_1': '26.5', 'ECO2_2': '11.236', 'E_TOE_YEAR': '0.00897', 'E_RATE_YEAR': '12.112', 'E_TOE_AVG': '0.006', 'E_RATE_AVG': '7.922', 'GUS': '0', 'GUS1': '0', 'GUS2': '0', 'GCO2_1_MATH_YEAR': '0', 'GCO2_2_MATH_YEAR': '0', 'GCO2_1_MATH': '0', 'GCO2_2_MATH': '0', 'GCO2_1': '0', 'GCO2_2': '0', 'G_TOE_YEAR': '0', 'G_RATE_YEAR': '0', 'G_TOE_AVG': '0', 'G_RATE_AVG': '0', 'WUS': '0', 'WUS1': '0', 'WUS2': '0', 'WCO2_1_MATH_YEAR': '0', 'WCO2_2_MATH_YEAR': '0', 'WCO2_1_MATH': '0', 'WCO2_2_MATH': '0', 'WCO2_1': '0', 'WCO2_2': '0', 'W_RATE_YEAR': '0', 'W_RATE_AVG': '0', 'HUS': '0', 'HUS1': '0', 'HUS2': '0', 'HCO2_1': '0', 'HCO2_2': '0', 'H_RATE_YEAR': '0', 'H_RATE_AVG': '0', 'NOW_CO2': '153.064', 'YEAR_CO2': '136.528', 'AVG_CO2': '141.828', 'TOTAL_CO2_YEAR': '16.536', 'TOTAL_CO2_AVG': '11.236', 'TOTAL_RATE_YEAR': '12.112', 'TOTAL_RATE_AVG': '7.922', 'REG_DATE': '2015-06-04 17:03:55.0'}, {'YEAR': '2015', 'MON': '01', 'HOSTCODE': '중구', 'DONGCODE': '황학동', 'MM_TYPE': '소상공인', 'TYPE_DIV': '단체', 'TYPE_DIV_CD': 'TB_GROUP', 'CNT': '1', 'EUS': '1405', 'EUS1': '1400', 'EUS2': '1538', 'ECO2_1_MATH_YEAR': '5', 'ECO2_2_MATH_YEAR': '2.12', 'ECO2_1_MATH': '-64', 'ECO2_2_MATH': '-27.136', 'ECO2_1': '-64', 'ECO2_2': '-27.136', 'E_TOE_YEAR': '0.00115', 'E_RATE_YEAR': '0.357', 'E_TOE_AVG': '-0.015', 'E_RATE_AVG': '-4.357', 'GUS': '0', 'GUS1': '0', 'GUS2': '0', 'GCO2_1_MATH_YEAR': '0', 'GCO2_2_MATH_YEAR': '0', 'GCO2_1_MATH': '0', 'GCO2_2_MATH': '0', 'GCO2_1': '0', 'GCO2_2': '0', 'G_TOE_YEAR': '0', 'G_RATE_YEAR': '0', 'G_TOE_AVG': '0', 'G_RATE_AVG': '0', 'WUS': '0', 'WUS1': '0', 'WUS2': '0', 'WCO2_1_MATH_YEAR': '0', 'WCO2_2_MATH_YEAR': '0', 'WCO2_1_MATH': '0', 'WCO2_2_MATH': '0', 'WCO2_1': '0', 'WCO2_2': '0', 'W_RATE_YEAR': '0', 'W_RATE_AVG': '0', 'HUS': '0', 'HUS1': '0', 'HUS2': '0', 'HCO2_1': '0', 'HCO2_2': '0', 'H_RATE_YEAR': '0', 'H_RATE_AVG': '0', 'NOW_CO2': '595.72', 'YEAR_CO2': '593.6', 'AVG_CO2': '622.856', 'TOTAL_CO2_YEAR': '2.12', 'TOTAL_CO2_AVG': '-27.136', 'TOTAL_RATE_YEAR': '0.357', 'TOTAL_RATE_AVG': '-4.357', 'REG_DATE': '2015-06-04 17:03:55.0'}, {'YEAR': '2015', 'MON': '01', 'HOSTCODE': '중랑구', 'DONGCODE': '면목3.8동', 'MM_TYPE': '개인', 'TYPE_DIV': '아파트', 'TYPE_DIV_CD': 'TB_APT_C', 'CNT': '1', 'EUS': '215', 'EUS1': '250', 'EUS2': '250', 'ECO2_1_MATH_YEAR': '-35', 'ECO2_2_MATH_YEAR': '-14.84', 'ECO2_1_MATH': '-35', 'ECO2_2_MATH': '-14.84', 'ECO2_1': '-35', 'ECO2_2': '-14.84', 'E_TOE_YEAR': '-0.00805', 'E_RATE_YEAR': '-14', 'E_TOE_AVG': '-0.008', 'E_RATE_AVG': '-14', 'GUS': '0', 'GUS1': '0', 'GUS2': '0', 'GCO2_1_MATH_YEAR': '0', 'GCO2_2_MATH_YEAR': '0', 'GCO2_1_MATH': '0', 'GCO2_2_MATH': '0', 'GCO2_1': '0', 'GCO2_2': '0', 'G_TOE_YEAR': '0', 'G_RATE_YEAR': '0', 'G_TOE_AVG': '0', 'G_RATE_AVG': '0', 'WUS': '0', 'WUS1': '0', 'WUS2': '0', 'WCO2_1_MATH_YEAR': '0', 'WCO2_2_MATH_YEAR': '0', 'WCO2_1_MATH': '0', 'WCO2_2_MATH': '0', 'WCO2_1': '0', 'WCO2_2': '0', 'W_RATE_YEAR': '0', 'W_RATE_AVG': '0', 'HUS': '0', 'HUS1': '0', 'HUS2': '0', 'HCO2_1': '0', 'HCO2_2': '0', 'H_RATE_YEAR': '0', 'H_RATE_AVG': '0', 'NOW_CO2': '91.16', 'YEAR_CO2': '106', 'AVG_CO2': '106', 'TOTAL_CO2_YEAR': '-14.84', 'TOTAL_CO2_AVG': '-14.84', 'TOTAL_RATE_YEAR': '-14', 'TOTAL_RATE_AVG': '-14', 'REG_DATE': '2015-06-04 17:03:55.0'}, {'YEAR': '2015', 'MON': '01', 'HOSTCODE': '강동구', 'DONGCODE': '강일동', 'MM_TYPE': '공동주택관리소', 'TYPE_DIV': '단체', 'TYPE_DIV_CD': 'TB_GROUP', 'CNT': '10', 'EUS': '1176691', 'EUS1': '1189993', 'EUS2': '1283702', 'ECO2_1_MATH_YEAR': '-13302', 'ECO2_2_MATH_YEAR': '-5640.048', 'ECO2_1_MATH': '-60156.5', 'ECO2_2_MATH': '-25506.356', 'ECO2_1': '-60156.5', 'ECO2_2': '-25506.356', 'E_TOE_YEAR': '-3.05946', 'E_RATE_YEAR': '-1.118', 'E_TOE_AVG': '-13.836', 'E_RATE_AVG': '-4.864', 'GUS': '36', 'GUS1': '34', 'GUS2': '35', 'GCO2_1_MATH_YEAR': '2', 'GCO2_2_MATH_YEAR': '4.48', 'GCO2_1_MATH': '1.5', 'GCO2_2_MATH': '3.36', 'GCO2_1': '1.5', 'GCO2_2': '3.36', 'G_TOE_YEAR': '0.002', 'G_RATE_YEAR': '5.882', 'G_TOE_AVG': '0.002', 'G_RATE_AVG': '4.348', 'WUS': '36421', 'WUS1': '34701', 'WUS2': '35251', 'WCO2_1_MATH_YEAR': '1720', 'WCO2_2_MATH_YEAR': '571.04', 'WCO2_1_MATH': '1445', 'WCO2_2_MATH': '479.74', 'WCO2_1': '1445', 'WCO2_2': '479.74', 'W_RATE_YEAR': '4.957', 'W_RATE_AVG': '4.131', 'HUS': '0', 'HUS1': '0', 'HUS2': '0', 'HCO2_1': '0', 'HCO2_2': '0', 'H_RATE_YEAR': '0', 'H_RATE_AVG': '0', 'NOW_CO2': '511089.396', 'YEAR_CO2': '516153.924', 'AVG_CO2': '536112.652', 'TOTAL_CO2_YEAR': '-5064.528', 'TOTAL_CO2_AVG': '-25023.256', 'TOTAL_RATE_YEAR': '-0.981', 'TOTAL_RATE_AVG': '-4.668', 'REG_DATE': '2015-06-04 17:03:55.0'}, {'YEAR': '2015', 'MON': '01', 'HOSTCODE': '강동구', 'DONGCODE': '강일동', 'MM_TYPE': '기업', 'TYPE_DIV': '단체', 'TYPE_DIV_CD': 'TB_GROUP', 'CNT': '6', 'EUS': '3192', 'EUS1': '2187', 'EUS2': '2187', 'ECO2_1_MATH_YEAR': '1005', 'ECO2_2_MATH_YEAR': '426.12', 'ECO2_1_MATH': '1005', 'ECO2_2_MATH': '426.12', 'ECO2_1': '1005', 'ECO2_2': '426.12', 'E_TOE_YEAR': '0.23115', 'E_RATE_YEAR': '45.953', 'E_TOE_AVG': '0.231', 'E_RATE_AVG': '45.953', 'GUS': '84', 'GUS1': '76', 'GUS2': '67', 'GCO2_1_MATH_YEAR': '8', 'GCO2_2_MATH_YEAR': '17.92', 'GCO2_1_MATH': '12.5', 'GCO2_2_MATH': '28', 'GCO2_1': '12.5', 'GCO2_2': '28', 'G_TOE_YEAR': '0.008', 'G_RATE_YEAR': '10.526', 'G_TOE_AVG': '0.013', 'G_RATE_AVG': '17.483', 'WUS': '0', 'WUS1': '0', 'WUS2': '0', 'WCO2_1_MATH_YEAR': '0', 'WCO2_2_MATH_YEAR': '0', 'WCO2_1_MATH': '0', 'WCO2_2_MATH': '0', 'WCO2_1': '0', 'WCO2_2': '0', 'W_RATE_YEAR': '0', 'W_RATE_AVG': '0', 'HUS': '0', 'HUS1': '0', 'HUS2': '0', 'HCO2_1': '0', 'HCO2_2': '0', 'H_RATE_YEAR': '0', 'H_RATE_AVG': '0', 'NOW_CO2': '1541.568', 'YEAR_CO2': '1097.528', 'AVG_CO2': '1087.448', 'TOTAL_CO2_YEAR': '444.04', 'TOTAL_CO2_AVG': '454.12', 'TOTAL_RATE_YEAR': '40.458', 'TOTAL_RATE_AVG': '41.76', 'REG_DATE': '2015-06-04 17:03:55.0'}]}}\n"
          ]
        }
      ]
    }
  ]
}