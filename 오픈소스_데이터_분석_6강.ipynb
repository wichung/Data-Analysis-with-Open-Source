{
  "nbformat": 4,
  "nbformat_minor": 0,
  "metadata": {
    "colab": {
      "provenance": [],
      "include_colab_link": true
    },
    "kernelspec": {
      "name": "python3",
      "display_name": "Python 3"
    },
    "language_info": {
      "name": "python"
    }
  },
  "cells": [
    {
      "cell_type": "markdown",
      "metadata": {
        "id": "view-in-github",
        "colab_type": "text"
      },
      "source": [
        "<a href=\"https://colab.research.google.com/github/wichung/Data-Analysis-with-Open-Source/blob/main/%EC%98%A4%ED%94%88%EC%86%8C%EC%8A%A4_%EB%8D%B0%EC%9D%B4%ED%84%B0_%EB%B6%84%EC%84%9D_6%EA%B0%95.ipynb\" target=\"_parent\"><img src=\"https://colab.research.google.com/assets/colab-badge.svg\" alt=\"Open In Colab\"/></a>"
      ]
    },
    {
      "cell_type": "markdown",
      "source": [
        "# 오픈소스 기반 데이터 분석 6강 - 데이터 전처리 1"
      ],
      "metadata": {
        "id": "1Ld5KWf86hIu"
      }
    },
    {
      "cell_type": "markdown",
      "source": [
        "### 6-1 데이터 훑어보기"
      ],
      "metadata": {
        "id": "XqpCWf2063pN"
      }
    },
    {
      "cell_type": "code",
      "source": [
        "import pandas as pd\n",
        "import numpy as np\n",
        "\n",
        "data = {\n",
        "    'name': ['김민수', '이지영', '박준호', '최서연', '정도윤'],\n",
        "    'age': [25, 30, 28, 22, 35],\n",
        "    'city': ['서울', '부산', '인천', '서울', '대전'],\n",
        "    'score': [90, 85, 95, 80, np.nan]\n",
        "}\n",
        "df = pd.DataFrame(data)\n",
        "\n",
        "# 데이터 측정\n",
        "df.describe()\n",
        "\n",
        "# 모든 데이터 타입 측정\n",
        "df.describe(include='all')\n",
        "\n",
        "# 수치형 데이터 측정\n",
        "df.describe(include=[np.number])\n",
        "\n",
        "# 범주형 데이터 측정\n",
        "df.describe(include=['object'])\n",
        "\n",
        "# 특정 열 분석\n",
        "df['score'].describe()\n"
      ],
      "metadata": {
        "id": "TKsIqpFtYVVS",
        "outputId": "420bc56e-c2d1-4d3a-fe4f-05da45bb0748",
        "colab": {
          "base_uri": "https://localhost:8080/",
          "height": 334
        }
      },
      "execution_count": 6,
      "outputs": [
        {
          "output_type": "execute_result",
          "data": {
            "text/plain": [
              "count     4.000000\n",
              "mean     87.500000\n",
              "std       6.454972\n",
              "min      80.000000\n",
              "25%      83.750000\n",
              "50%      87.500000\n",
              "75%      91.250000\n",
              "max      95.000000\n",
              "Name: score, dtype: float64"
            ],
            "text/html": [
              "<div>\n",
              "<style scoped>\n",
              "    .dataframe tbody tr th:only-of-type {\n",
              "        vertical-align: middle;\n",
              "    }\n",
              "\n",
              "    .dataframe tbody tr th {\n",
              "        vertical-align: top;\n",
              "    }\n",
              "\n",
              "    .dataframe thead th {\n",
              "        text-align: right;\n",
              "    }\n",
              "</style>\n",
              "<table border=\"1\" class=\"dataframe\">\n",
              "  <thead>\n",
              "    <tr style=\"text-align: right;\">\n",
              "      <th></th>\n",
              "      <th>score</th>\n",
              "    </tr>\n",
              "  </thead>\n",
              "  <tbody>\n",
              "    <tr>\n",
              "      <th>count</th>\n",
              "      <td>4.000000</td>\n",
              "    </tr>\n",
              "    <tr>\n",
              "      <th>mean</th>\n",
              "      <td>87.500000</td>\n",
              "    </tr>\n",
              "    <tr>\n",
              "      <th>std</th>\n",
              "      <td>6.454972</td>\n",
              "    </tr>\n",
              "    <tr>\n",
              "      <th>min</th>\n",
              "      <td>80.000000</td>\n",
              "    </tr>\n",
              "    <tr>\n",
              "      <th>25%</th>\n",
              "      <td>83.750000</td>\n",
              "    </tr>\n",
              "    <tr>\n",
              "      <th>50%</th>\n",
              "      <td>87.500000</td>\n",
              "    </tr>\n",
              "    <tr>\n",
              "      <th>75%</th>\n",
              "      <td>91.250000</td>\n",
              "    </tr>\n",
              "    <tr>\n",
              "      <th>max</th>\n",
              "      <td>95.000000</td>\n",
              "    </tr>\n",
              "  </tbody>\n",
              "</table>\n",
              "</div><br><label><b>dtype:</b> float64</label>"
            ]
          },
          "metadata": {},
          "execution_count": 6
        }
      ]
    },
    {
      "cell_type": "markdown",
      "source": [
        "### 6-2 DataFrame 열 선택 및 **조작**"
      ],
      "metadata": {
        "id": "HezV4iK1BmrB"
      }
    },
    {
      "cell_type": "code",
      "source": [
        "import pandas as pd\n",
        "\n",
        "data = {\n",
        "    \"이름\": [\"김철수\", \"이영희\", \"박민수\", \"최지훈\", \"정소희\"],\n",
        "    \"학년\": [1, 2, 3, 4, 2],\n",
        "    \"학점\": [4.2, 3.8, 4.5, 3.9, 3.5],\n",
        "    \"학과\": [\"컴퓨터공학\", \"경영학\", \"전자공학\", \"의학\", \"심리학\"],\n",
        "    \"동아리\": [\"프로그래밍\", \"독서토론\", \"로봇공학\", \"봉사활동\", \"음악감상\"]\n",
        "}\n",
        "df = pd.DataFrame(data)\n",
        "\n",
        "# 특정 열 선택\n",
        "\n",
        "# DataFrame 열순서 변경\n",
        "\n",
        "# DataFrame 열이름 변경\n"
      ],
      "metadata": {
        "id": "23DbuKjzYcpS"
      },
      "execution_count": null,
      "outputs": []
    },
    {
      "cell_type": "markdown",
      "source": [
        "### 6-3 DataFrame 행 선택"
      ],
      "metadata": {
        "id": "lZ2fkkq7B9NN"
      }
    },
    {
      "cell_type": "code",
      "source": [
        "import pandas as pd\n",
        "\n",
        "data = {\n",
        "    \"이름\": [\"김철수\", \"이영희\", \"박민수\", \"최지훈\", \"정소희\"],\n",
        "    \"학년\": [1, 2, 3, 4, 2],\n",
        "    \"학점\": [4.2, 3.8, 4.5, 3.9, 3.5],\n",
        "    \"학과\": [\"컴퓨터공학\", \"경영학\", \"전자공학\", \"의학\", \"심리학\"],\n",
        "    \"동아리\": [\"프로그래밍\", \"독서토론\", \"로봇공학\", \"봉사활동\", \"음악감상\"]\n",
        "}\n",
        "\n",
        "#DataFrame 인덱스 지정\n",
        "\n",
        "#DataFrame 행 선택\n",
        "\n",
        "#DataFrame 위치 기반 행 선택\n",
        "\n",
        "#DataFrame 조건 기반 선택\n"
      ],
      "metadata": {
        "id": "Iztna0YTYe_e"
      },
      "execution_count": null,
      "outputs": []
    },
    {
      "cell_type": "markdown",
      "source": [
        "### 6-4 DataFrame 정렬"
      ],
      "metadata": {
        "id": "EX3RYr5jCfka"
      }
    },
    {
      "cell_type": "markdown",
      "source": [],
      "metadata": {
        "id": "G_mEibnYC_tQ"
      }
    },
    {
      "cell_type": "code",
      "source": [
        "import pandas as pd\n",
        "\n",
        "data = {\n",
        "    \"이름\": [\"김철수\", \"이영희\", \"박민수\", \"최지훈\", \"정소희\"],\n",
        "    \"학년\": [1, 2, 3, 4, 2],\n",
        "    \"학점\": [4.2, 3.8, 4.5, 3.9, 3.5],\n",
        "    \"학과\": [\"컴퓨터공학\", \"경영학\", \"전자공학\", \"의학\", \"심리학\"],\n",
        "    \"동아리\": [\"프로그래밍\", \"독서토론\", \"로봇공학\", \"봉사활동\", \"음악감상\"]\n",
        "}\n",
        "\n",
        "#DataFrame 인덱스 지정\n",
        "\n",
        "#DataFrame 단일 열 오름차순, 내림차순 정렬\n",
        "\n",
        "#DataFrame 복수 열 오름차순, 내림차순 정렬\n",
        "\n",
        "#DataFrame 인덱스 기분 오른차순, 내림차순 정렬\n"
      ],
      "metadata": {
        "id": "T9G-46ITYx7b"
      },
      "execution_count": null,
      "outputs": []
    },
    {
      "cell_type": "markdown",
      "source": [
        "## 6-5 실습 시나리오 - Kaggle을 활용한 데이터 수집 및 측정"
      ],
      "metadata": {
        "id": "6ui5L5oe8HH-"
      }
    },
    {
      "cell_type": "markdown",
      "source": [
        "- Kaggle([https://www.kaggle.com](https://www.kaggle.com)) 회원 가입\n",
        "- Kaggle 접근 토큰 생성(API 키)\n"
      ],
      "metadata": {
        "id": "kX0puWUc8aNR"
      }
    },
    {
      "cell_type": "markdown",
      "source": [
        "### Kaggle API 키 업로드"
      ],
      "metadata": {
        "id": "RtoqM2Mc98fS"
      }
    },
    {
      "cell_type": "code",
      "source": [
        "from google.colab import files\n",
        "files.upload()"
      ],
      "metadata": {
        "id": "OlIwjX8vaAF6"
      },
      "execution_count": null,
      "outputs": []
    },
    {
      "cell_type": "markdown",
      "source": [
        "### Kaggle API 키 사용을 위한 Colab 환경 설정"
      ],
      "metadata": {
        "id": "V3YAacMY-KAV"
      }
    },
    {
      "cell_type": "code",
      "source": [
        "!mkdir -p ~/.kaggle\n",
        "!cp kaggle.json ~/.kaggle/\n",
        "!chmod 600 ~/.kaggle/kaggle.json"
      ],
      "metadata": {
        "id": "9bknQa2TaDRD"
      },
      "execution_count": null,
      "outputs": []
    },
    {
      "cell_type": "markdown",
      "source": [
        "### Kaggle 데이터셋 다운로드"
      ],
      "metadata": {
        "id": "Dv2PN16j-ip4"
      }
    },
    {
      "cell_type": "code",
      "source": [
        "!kaggle competitions download –c store-sales-time-series-forecasting\n",
        "\n",
        "!unzip store-sales-time-series-forecasting.zip"
      ],
      "metadata": {
        "id": "nemk0pNOaEvh"
      },
      "execution_count": null,
      "outputs": []
    },
    {
      "cell_type": "markdown",
      "source": [
        "### Kaggle 데이터셋 DataFrame 로드 및 살펴보기"
      ],
      "metadata": {
        "id": "o31gdHgx-pik"
      }
    },
    {
      "cell_type": "code",
      "source": [
        "import pandas as pd\n",
        "\n",
        "# Grocery Sales 데이터 DataFrame 로드\n",
        "\n",
        "# 판매 데이터 살펴보기\n"
      ],
      "metadata": {
        "id": "QSoBpU9caKQ-"
      },
      "execution_count": null,
      "outputs": []
    },
    {
      "cell_type": "markdown",
      "source": [
        "### Kaggle 데이터셋 측정"
      ],
      "metadata": {
        "id": "-B_aRee0_CXf"
      }
    },
    {
      "cell_type": "code",
      "source": [
        "# 판매 데이터 기본 통계량\n",
        "\n",
        "# 매장 데이터 기본 정보\n",
        "\n",
        "# 원유 가격 데이터 기본 정보\n"
      ],
      "metadata": {
        "id": "d00dD1V0aNoO"
      },
      "execution_count": null,
      "outputs": []
    }
  ]
}